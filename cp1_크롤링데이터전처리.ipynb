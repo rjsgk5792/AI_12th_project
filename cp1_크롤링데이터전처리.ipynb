{
  "nbformat": 4,
  "nbformat_minor": 0,
  "metadata": {
    "colab": {
      "name": "cp1_크롤링데이터전처리.ipynb",
      "provenance": [],
      "collapsed_sections": [],
      "toc_visible": true,
      "mount_file_id": "1Ycl3XnBDuth_ucsWvBuOmt9EZ5uTA1Ax",
      "authorship_tag": "ABX9TyPK2eKlGNa4FShdJ82cIOiz",
      "include_colab_link": true
    },
    "kernelspec": {
      "name": "python3",
      "display_name": "Python 3"
    },
    "language_info": {
      "name": "python"
    }
  },
  "cells": [
    {
      "cell_type": "markdown",
      "metadata": {
        "id": "view-in-github",
        "colab_type": "text"
      },
      "source": [
        "<a href=\"https://colab.research.google.com/github/rjsgk5792/AI_12th_project/blob/main/cp1_%ED%81%AC%EB%A1%A4%EB%A7%81%EB%8D%B0%EC%9D%B4%ED%84%B0%EC%A0%84%EC%B2%98%EB%A6%AC.ipynb\" target=\"_parent\"><img src=\"https://colab.research.google.com/assets/colab-badge.svg\" alt=\"Open In Colab\"/></a>"
      ]
    },
    {
      "cell_type": "code",
      "execution_count": 24,
      "metadata": {
        "id": "vYx4gnegBLtD"
      },
      "outputs": [],
      "source": [
        "import sqlite3\n",
        "import pandas as pd\n",
        "import numpy as np\n",
        "import seaborn as sns\n",
        "import matplotlib.pyplot as plt\n",
        "import warnings\n",
        "\n"
      ]
    },
    {
      "cell_type": "code",
      "source": [
        "# 한글,마이너스 폰트 깨짐 해결\n",
        "%config InlineBackend.figure_format='retina'\n",
        "!apt -qq -y install fonts-nanum > /dev/null\n",
        "import matplotlib.font_manager as fm\n",
        "fontpath = '/usr/share/fonts/truetype/nanum/NanumBarunGothic.ttf'\n",
        "font = fm.FontProperties(fname=fontpath, size=9)\n",
        "import matplotlib as mpl\n",
        "mpl.font_manager._rebuild()\n",
        "mpl.pyplot.rc('font', family='NanumBarunGothic')\n",
        "\n",
        "# 캔버스 사이즈 적용\n",
        "plt.rcParams[\"figure.figsize\"] = (12, 9)\n",
        "warnings.filterwarnings(\"ignore\")\n",
        "%matplotlib inline"
      ],
      "metadata": {
        "colab": {
          "base_uri": "https://localhost:8080/"
        },
        "id": "5PzlNHuA6W4g",
        "outputId": "ac26cf96-c6f0-4b57-9ab2-3913023560f7"
      },
      "execution_count": 25,
      "outputs": [
        {
          "output_type": "stream",
          "name": "stdout",
          "text": [
            "\n",
            "WARNING: apt does not have a stable CLI interface. Use with caution in scripts.\n",
            "\n"
          ]
        }
      ]
    },
    {
      "cell_type": "markdown",
      "source": [
        "# 여기서부터 시작\n",
        "* 인기가 많은 카테고리 및 브랜드\n",
        "* 카테고리별, 세부카테고리별, 브랜드별 가격\n"
      ],
      "metadata": {
        "id": "1GVtzW_44cGO"
      }
    },
    {
      "cell_type": "code",
      "source": [
        "df = pd.read_csv('/content/drive/MyDrive/부트캠프/cp1/크롤링된 데이터/without_click3.csv')\n",
        "sneakers_df = df[df['세부카테고리']=='스니커즈'].reset_index(drop=True)\n",
        "sneakers_df"
      ],
      "metadata": {
        "id": "mjtban9bFl7F",
        "colab": {
          "base_uri": "https://localhost:8080/",
          "height": 424
        },
        "outputId": "952261cf-495b-4a30-91b1-d1bf0ebe9327"
      },
      "execution_count": 33,
      "outputs": [
        {
          "output_type": "execute_result",
          "data": {
            "text/plain": [
              "    카테고리 세부카테고리              브랜드  \\\n",
              "0     신발   스니커즈           Jordan   \n",
              "1     신발   스니커즈             Nike   \n",
              "2     신발   스니커즈             Nike   \n",
              "3     신발   스니커즈             Nike   \n",
              "4     신발   스니커즈      New Balance   \n",
              "..   ...    ...              ...   \n",
              "395   신발   스니커즈           Adidas   \n",
              "396   신발   스니커즈  Maison Margiela   \n",
              "397   신발   스니커즈            Asics   \n",
              "398   신발   스니커즈             Nike   \n",
              "399   신발   스니커즈             Nike   \n",
              "\n",
              "                                                   상품명     구매가     거래량  \\\n",
              "0                   Jordan 1 Retro High OG Black Mocha  600000   87000   \n",
              "1                            Nike Dunk Low Retro Black  178000  188000   \n",
              "2                              (W) Nike Dunk Low Black  195000   75000   \n",
              "3                       Nike Air Force 1 '07 Low White  124000  109000   \n",
              "4        New Balance 992 Made in USA Grey - D Standard  380000   52000   \n",
              "..                                                 ...     ...     ...   \n",
              "395       Adidas Yeezy Boost 350 V2 Semi Frozen Yellow  400000     622   \n",
              "396     Maison Margiela Calfskin Replica Sneaker White  350000     441   \n",
              "397  Asics x Andersson Bell Gel-1090 Glacier Grey S...  500000    2109   \n",
              "398                  Nike x Sacai LDWaffle White Nylon  599000    2634   \n",
              "399                        Nike Kobe 5 Protro 5X Champ  400000    1321   \n",
              "\n",
              "        저장수     피드수  \n",
              "0     26000   26000  \n",
              "1    101000  101000  \n",
              "2     53000   53000  \n",
              "3     93000   93000  \n",
              "4     39000   39000  \n",
              "..      ...     ...  \n",
              "395     988     988  \n",
              "396     792     792  \n",
              "397    5179    5179  \n",
              "398    4206    4206  \n",
              "399     548     548  \n",
              "\n",
              "[400 rows x 8 columns]"
            ],
            "text/html": [
              "\n",
              "  <div id=\"df-0b1d5b8e-e0b6-468f-8481-f333c8ce9400\">\n",
              "    <div class=\"colab-df-container\">\n",
              "      <div>\n",
              "<style scoped>\n",
              "    .dataframe tbody tr th:only-of-type {\n",
              "        vertical-align: middle;\n",
              "    }\n",
              "\n",
              "    .dataframe tbody tr th {\n",
              "        vertical-align: top;\n",
              "    }\n",
              "\n",
              "    .dataframe thead th {\n",
              "        text-align: right;\n",
              "    }\n",
              "</style>\n",
              "<table border=\"1\" class=\"dataframe\">\n",
              "  <thead>\n",
              "    <tr style=\"text-align: right;\">\n",
              "      <th></th>\n",
              "      <th>카테고리</th>\n",
              "      <th>세부카테고리</th>\n",
              "      <th>브랜드</th>\n",
              "      <th>상품명</th>\n",
              "      <th>구매가</th>\n",
              "      <th>거래량</th>\n",
              "      <th>저장수</th>\n",
              "      <th>피드수</th>\n",
              "    </tr>\n",
              "  </thead>\n",
              "  <tbody>\n",
              "    <tr>\n",
              "      <th>0</th>\n",
              "      <td>신발</td>\n",
              "      <td>스니커즈</td>\n",
              "      <td>Jordan</td>\n",
              "      <td>Jordan 1 Retro High OG Black Mocha</td>\n",
              "      <td>600000</td>\n",
              "      <td>87000</td>\n",
              "      <td>26000</td>\n",
              "      <td>26000</td>\n",
              "    </tr>\n",
              "    <tr>\n",
              "      <th>1</th>\n",
              "      <td>신발</td>\n",
              "      <td>스니커즈</td>\n",
              "      <td>Nike</td>\n",
              "      <td>Nike Dunk Low Retro Black</td>\n",
              "      <td>178000</td>\n",
              "      <td>188000</td>\n",
              "      <td>101000</td>\n",
              "      <td>101000</td>\n",
              "    </tr>\n",
              "    <tr>\n",
              "      <th>2</th>\n",
              "      <td>신발</td>\n",
              "      <td>스니커즈</td>\n",
              "      <td>Nike</td>\n",
              "      <td>(W) Nike Dunk Low Black</td>\n",
              "      <td>195000</td>\n",
              "      <td>75000</td>\n",
              "      <td>53000</td>\n",
              "      <td>53000</td>\n",
              "    </tr>\n",
              "    <tr>\n",
              "      <th>3</th>\n",
              "      <td>신발</td>\n",
              "      <td>스니커즈</td>\n",
              "      <td>Nike</td>\n",
              "      <td>Nike Air Force 1 '07 Low White</td>\n",
              "      <td>124000</td>\n",
              "      <td>109000</td>\n",
              "      <td>93000</td>\n",
              "      <td>93000</td>\n",
              "    </tr>\n",
              "    <tr>\n",
              "      <th>4</th>\n",
              "      <td>신발</td>\n",
              "      <td>스니커즈</td>\n",
              "      <td>New Balance</td>\n",
              "      <td>New Balance 992 Made in USA Grey - D Standard</td>\n",
              "      <td>380000</td>\n",
              "      <td>52000</td>\n",
              "      <td>39000</td>\n",
              "      <td>39000</td>\n",
              "    </tr>\n",
              "    <tr>\n",
              "      <th>...</th>\n",
              "      <td>...</td>\n",
              "      <td>...</td>\n",
              "      <td>...</td>\n",
              "      <td>...</td>\n",
              "      <td>...</td>\n",
              "      <td>...</td>\n",
              "      <td>...</td>\n",
              "      <td>...</td>\n",
              "    </tr>\n",
              "    <tr>\n",
              "      <th>395</th>\n",
              "      <td>신발</td>\n",
              "      <td>스니커즈</td>\n",
              "      <td>Adidas</td>\n",
              "      <td>Adidas Yeezy Boost 350 V2 Semi Frozen Yellow</td>\n",
              "      <td>400000</td>\n",
              "      <td>622</td>\n",
              "      <td>988</td>\n",
              "      <td>988</td>\n",
              "    </tr>\n",
              "    <tr>\n",
              "      <th>396</th>\n",
              "      <td>신발</td>\n",
              "      <td>스니커즈</td>\n",
              "      <td>Maison Margiela</td>\n",
              "      <td>Maison Margiela Calfskin Replica Sneaker White</td>\n",
              "      <td>350000</td>\n",
              "      <td>441</td>\n",
              "      <td>792</td>\n",
              "      <td>792</td>\n",
              "    </tr>\n",
              "    <tr>\n",
              "      <th>397</th>\n",
              "      <td>신발</td>\n",
              "      <td>스니커즈</td>\n",
              "      <td>Asics</td>\n",
              "      <td>Asics x Andersson Bell Gel-1090 Glacier Grey S...</td>\n",
              "      <td>500000</td>\n",
              "      <td>2109</td>\n",
              "      <td>5179</td>\n",
              "      <td>5179</td>\n",
              "    </tr>\n",
              "    <tr>\n",
              "      <th>398</th>\n",
              "      <td>신발</td>\n",
              "      <td>스니커즈</td>\n",
              "      <td>Nike</td>\n",
              "      <td>Nike x Sacai LDWaffle White Nylon</td>\n",
              "      <td>599000</td>\n",
              "      <td>2634</td>\n",
              "      <td>4206</td>\n",
              "      <td>4206</td>\n",
              "    </tr>\n",
              "    <tr>\n",
              "      <th>399</th>\n",
              "      <td>신발</td>\n",
              "      <td>스니커즈</td>\n",
              "      <td>Nike</td>\n",
              "      <td>Nike Kobe 5 Protro 5X Champ</td>\n",
              "      <td>400000</td>\n",
              "      <td>1321</td>\n",
              "      <td>548</td>\n",
              "      <td>548</td>\n",
              "    </tr>\n",
              "  </tbody>\n",
              "</table>\n",
              "<p>400 rows × 8 columns</p>\n",
              "</div>\n",
              "      <button class=\"colab-df-convert\" onclick=\"convertToInteractive('df-0b1d5b8e-e0b6-468f-8481-f333c8ce9400')\"\n",
              "              title=\"Convert this dataframe to an interactive table.\"\n",
              "              style=\"display:none;\">\n",
              "        \n",
              "  <svg xmlns=\"http://www.w3.org/2000/svg\" height=\"24px\"viewBox=\"0 0 24 24\"\n",
              "       width=\"24px\">\n",
              "    <path d=\"M0 0h24v24H0V0z\" fill=\"none\"/>\n",
              "    <path d=\"M18.56 5.44l.94 2.06.94-2.06 2.06-.94-2.06-.94-.94-2.06-.94 2.06-2.06.94zm-11 1L8.5 8.5l.94-2.06 2.06-.94-2.06-.94L8.5 2.5l-.94 2.06-2.06.94zm10 10l.94 2.06.94-2.06 2.06-.94-2.06-.94-.94-2.06-.94 2.06-2.06.94z\"/><path d=\"M17.41 7.96l-1.37-1.37c-.4-.4-.92-.59-1.43-.59-.52 0-1.04.2-1.43.59L10.3 9.45l-7.72 7.72c-.78.78-.78 2.05 0 2.83L4 21.41c.39.39.9.59 1.41.59.51 0 1.02-.2 1.41-.59l7.78-7.78 2.81-2.81c.8-.78.8-2.07 0-2.86zM5.41 20L4 18.59l7.72-7.72 1.47 1.35L5.41 20z\"/>\n",
              "  </svg>\n",
              "      </button>\n",
              "      \n",
              "  <style>\n",
              "    .colab-df-container {\n",
              "      display:flex;\n",
              "      flex-wrap:wrap;\n",
              "      gap: 12px;\n",
              "    }\n",
              "\n",
              "    .colab-df-convert {\n",
              "      background-color: #E8F0FE;\n",
              "      border: none;\n",
              "      border-radius: 50%;\n",
              "      cursor: pointer;\n",
              "      display: none;\n",
              "      fill: #1967D2;\n",
              "      height: 32px;\n",
              "      padding: 0 0 0 0;\n",
              "      width: 32px;\n",
              "    }\n",
              "\n",
              "    .colab-df-convert:hover {\n",
              "      background-color: #E2EBFA;\n",
              "      box-shadow: 0px 1px 2px rgba(60, 64, 67, 0.3), 0px 1px 3px 1px rgba(60, 64, 67, 0.15);\n",
              "      fill: #174EA6;\n",
              "    }\n",
              "\n",
              "    [theme=dark] .colab-df-convert {\n",
              "      background-color: #3B4455;\n",
              "      fill: #D2E3FC;\n",
              "    }\n",
              "\n",
              "    [theme=dark] .colab-df-convert:hover {\n",
              "      background-color: #434B5C;\n",
              "      box-shadow: 0px 1px 3px 1px rgba(0, 0, 0, 0.15);\n",
              "      filter: drop-shadow(0px 1px 2px rgba(0, 0, 0, 0.3));\n",
              "      fill: #FFFFFF;\n",
              "    }\n",
              "  </style>\n",
              "\n",
              "      <script>\n",
              "        const buttonEl =\n",
              "          document.querySelector('#df-0b1d5b8e-e0b6-468f-8481-f333c8ce9400 button.colab-df-convert');\n",
              "        buttonEl.style.display =\n",
              "          google.colab.kernel.accessAllowed ? 'block' : 'none';\n",
              "\n",
              "        async function convertToInteractive(key) {\n",
              "          const element = document.querySelector('#df-0b1d5b8e-e0b6-468f-8481-f333c8ce9400');\n",
              "          const dataTable =\n",
              "            await google.colab.kernel.invokeFunction('convertToInteractive',\n",
              "                                                     [key], {});\n",
              "          if (!dataTable) return;\n",
              "\n",
              "          const docLinkHtml = 'Like what you see? Visit the ' +\n",
              "            '<a target=\"_blank\" href=https://colab.research.google.com/notebooks/data_table.ipynb>data table notebook</a>'\n",
              "            + ' to learn more about interactive tables.';\n",
              "          element.innerHTML = '';\n",
              "          dataTable['output_type'] = 'display_data';\n",
              "          await google.colab.output.renderOutput(dataTable, element);\n",
              "          const docLink = document.createElement('div');\n",
              "          docLink.innerHTML = docLinkHtml;\n",
              "          element.appendChild(docLink);\n",
              "        }\n",
              "      </script>\n",
              "    </div>\n",
              "  </div>\n",
              "  "
            ]
          },
          "metadata": {},
          "execution_count": 33
        }
      ]
    },
    {
      "cell_type": "code",
      "source": [
        "data = pd.read_csv('/content/drive/MyDrive/부트캠프/cp1/크롤링된 데이터/click/8c0eed70158f2d51.csv')\n",
        "data.head()"
      ],
      "metadata": {
        "colab": {
          "base_uri": "https://localhost:8080/",
          "height": 206
        },
        "id": "15po5TAdFV75",
        "outputId": "be1b8b1a-4fc6-46f1-c231-62e622c9ca69"
      },
      "execution_count": 46,
      "outputs": [
        {
          "output_type": "execute_result",
          "data": {
            "text/plain": [
              "  카테고리 세부카테고리                                                상품명       출시일  \\\n",
              "0   의류     자켓  Supreme x The North Face Trekking Convertible ...  22/06/09   \n",
              "1   의류     자켓  Supreme x Nike Arc Corduroy Hooded Jacket Blac...  22/05/26   \n",
              "2   의류     자켓  Stone Island 114WN T.CO+OLD Overshirt Black - ...         -   \n",
              "3   의류     자켓            Stussy Wave Dye Beach Shell Jacket Grey         -   \n",
              "4   의류     자켓  Supreme x The North Face Trekking Convertible ...  22/06/09   \n",
              "\n",
              "                 발매가 XXXS XXS       XS        S        M        L       XL  \\\n",
              "0  $298 (약 386,500원)    0   0        0  575,000  554,000  585,000  674,000   \n",
              "1  $198 (약 256,800원)    0   0        0  538,000  584,000  673,000  725,000   \n",
              "2                  -    0   0  500,000  499,000  583,000  699,000  700,000   \n",
              "3  $175 (약 226,900원)    0   0        0  384,000  475,000  478,000  489,000   \n",
              "4  $298 (약 386,500원)    0   0        0  670,000  645,000  677,000  710,000   \n",
              "\n",
              "       XXL XXXL  \n",
              "0  750,000    0  \n",
              "1        0    0  \n",
              "2  649,000    0  \n",
              "3  679,000    0  \n",
              "4  990,000    0  "
            ],
            "text/html": [
              "\n",
              "  <div id=\"df-e44b2084-7f8b-444e-8300-18ce09a6a33c\">\n",
              "    <div class=\"colab-df-container\">\n",
              "      <div>\n",
              "<style scoped>\n",
              "    .dataframe tbody tr th:only-of-type {\n",
              "        vertical-align: middle;\n",
              "    }\n",
              "\n",
              "    .dataframe tbody tr th {\n",
              "        vertical-align: top;\n",
              "    }\n",
              "\n",
              "    .dataframe thead th {\n",
              "        text-align: right;\n",
              "    }\n",
              "</style>\n",
              "<table border=\"1\" class=\"dataframe\">\n",
              "  <thead>\n",
              "    <tr style=\"text-align: right;\">\n",
              "      <th></th>\n",
              "      <th>카테고리</th>\n",
              "      <th>세부카테고리</th>\n",
              "      <th>상품명</th>\n",
              "      <th>출시일</th>\n",
              "      <th>발매가</th>\n",
              "      <th>XXXS</th>\n",
              "      <th>XXS</th>\n",
              "      <th>XS</th>\n",
              "      <th>S</th>\n",
              "      <th>M</th>\n",
              "      <th>L</th>\n",
              "      <th>XL</th>\n",
              "      <th>XXL</th>\n",
              "      <th>XXXL</th>\n",
              "    </tr>\n",
              "  </thead>\n",
              "  <tbody>\n",
              "    <tr>\n",
              "      <th>0</th>\n",
              "      <td>의류</td>\n",
              "      <td>자켓</td>\n",
              "      <td>Supreme x The North Face Trekking Convertible ...</td>\n",
              "      <td>22/06/09</td>\n",
              "      <td>$298 (약 386,500원)</td>\n",
              "      <td>0</td>\n",
              "      <td>0</td>\n",
              "      <td>0</td>\n",
              "      <td>575,000</td>\n",
              "      <td>554,000</td>\n",
              "      <td>585,000</td>\n",
              "      <td>674,000</td>\n",
              "      <td>750,000</td>\n",
              "      <td>0</td>\n",
              "    </tr>\n",
              "    <tr>\n",
              "      <th>1</th>\n",
              "      <td>의류</td>\n",
              "      <td>자켓</td>\n",
              "      <td>Supreme x Nike Arc Corduroy Hooded Jacket Blac...</td>\n",
              "      <td>22/05/26</td>\n",
              "      <td>$198 (약 256,800원)</td>\n",
              "      <td>0</td>\n",
              "      <td>0</td>\n",
              "      <td>0</td>\n",
              "      <td>538,000</td>\n",
              "      <td>584,000</td>\n",
              "      <td>673,000</td>\n",
              "      <td>725,000</td>\n",
              "      <td>0</td>\n",
              "      <td>0</td>\n",
              "    </tr>\n",
              "    <tr>\n",
              "      <th>2</th>\n",
              "      <td>의류</td>\n",
              "      <td>자켓</td>\n",
              "      <td>Stone Island 114WN T.CO+OLD Overshirt Black - ...</td>\n",
              "      <td>-</td>\n",
              "      <td>-</td>\n",
              "      <td>0</td>\n",
              "      <td>0</td>\n",
              "      <td>500,000</td>\n",
              "      <td>499,000</td>\n",
              "      <td>583,000</td>\n",
              "      <td>699,000</td>\n",
              "      <td>700,000</td>\n",
              "      <td>649,000</td>\n",
              "      <td>0</td>\n",
              "    </tr>\n",
              "    <tr>\n",
              "      <th>3</th>\n",
              "      <td>의류</td>\n",
              "      <td>자켓</td>\n",
              "      <td>Stussy Wave Dye Beach Shell Jacket Grey</td>\n",
              "      <td>-</td>\n",
              "      <td>$175 (약 226,900원)</td>\n",
              "      <td>0</td>\n",
              "      <td>0</td>\n",
              "      <td>0</td>\n",
              "      <td>384,000</td>\n",
              "      <td>475,000</td>\n",
              "      <td>478,000</td>\n",
              "      <td>489,000</td>\n",
              "      <td>679,000</td>\n",
              "      <td>0</td>\n",
              "    </tr>\n",
              "    <tr>\n",
              "      <th>4</th>\n",
              "      <td>의류</td>\n",
              "      <td>자켓</td>\n",
              "      <td>Supreme x The North Face Trekking Convertible ...</td>\n",
              "      <td>22/06/09</td>\n",
              "      <td>$298 (약 386,500원)</td>\n",
              "      <td>0</td>\n",
              "      <td>0</td>\n",
              "      <td>0</td>\n",
              "      <td>670,000</td>\n",
              "      <td>645,000</td>\n",
              "      <td>677,000</td>\n",
              "      <td>710,000</td>\n",
              "      <td>990,000</td>\n",
              "      <td>0</td>\n",
              "    </tr>\n",
              "  </tbody>\n",
              "</table>\n",
              "</div>\n",
              "      <button class=\"colab-df-convert\" onclick=\"convertToInteractive('df-e44b2084-7f8b-444e-8300-18ce09a6a33c')\"\n",
              "              title=\"Convert this dataframe to an interactive table.\"\n",
              "              style=\"display:none;\">\n",
              "        \n",
              "  <svg xmlns=\"http://www.w3.org/2000/svg\" height=\"24px\"viewBox=\"0 0 24 24\"\n",
              "       width=\"24px\">\n",
              "    <path d=\"M0 0h24v24H0V0z\" fill=\"none\"/>\n",
              "    <path d=\"M18.56 5.44l.94 2.06.94-2.06 2.06-.94-2.06-.94-.94-2.06-.94 2.06-2.06.94zm-11 1L8.5 8.5l.94-2.06 2.06-.94-2.06-.94L8.5 2.5l-.94 2.06-2.06.94zm10 10l.94 2.06.94-2.06 2.06-.94-2.06-.94-.94-2.06-.94 2.06-2.06.94z\"/><path d=\"M17.41 7.96l-1.37-1.37c-.4-.4-.92-.59-1.43-.59-.52 0-1.04.2-1.43.59L10.3 9.45l-7.72 7.72c-.78.78-.78 2.05 0 2.83L4 21.41c.39.39.9.59 1.41.59.51 0 1.02-.2 1.41-.59l7.78-7.78 2.81-2.81c.8-.78.8-2.07 0-2.86zM5.41 20L4 18.59l7.72-7.72 1.47 1.35L5.41 20z\"/>\n",
              "  </svg>\n",
              "      </button>\n",
              "      \n",
              "  <style>\n",
              "    .colab-df-container {\n",
              "      display:flex;\n",
              "      flex-wrap:wrap;\n",
              "      gap: 12px;\n",
              "    }\n",
              "\n",
              "    .colab-df-convert {\n",
              "      background-color: #E8F0FE;\n",
              "      border: none;\n",
              "      border-radius: 50%;\n",
              "      cursor: pointer;\n",
              "      display: none;\n",
              "      fill: #1967D2;\n",
              "      height: 32px;\n",
              "      padding: 0 0 0 0;\n",
              "      width: 32px;\n",
              "    }\n",
              "\n",
              "    .colab-df-convert:hover {\n",
              "      background-color: #E2EBFA;\n",
              "      box-shadow: 0px 1px 2px rgba(60, 64, 67, 0.3), 0px 1px 3px 1px rgba(60, 64, 67, 0.15);\n",
              "      fill: #174EA6;\n",
              "    }\n",
              "\n",
              "    [theme=dark] .colab-df-convert {\n",
              "      background-color: #3B4455;\n",
              "      fill: #D2E3FC;\n",
              "    }\n",
              "\n",
              "    [theme=dark] .colab-df-convert:hover {\n",
              "      background-color: #434B5C;\n",
              "      box-shadow: 0px 1px 3px 1px rgba(0, 0, 0, 0.15);\n",
              "      filter: drop-shadow(0px 1px 2px rgba(0, 0, 0, 0.3));\n",
              "      fill: #FFFFFF;\n",
              "    }\n",
              "  </style>\n",
              "\n",
              "      <script>\n",
              "        const buttonEl =\n",
              "          document.querySelector('#df-e44b2084-7f8b-444e-8300-18ce09a6a33c button.colab-df-convert');\n",
              "        buttonEl.style.display =\n",
              "          google.colab.kernel.accessAllowed ? 'block' : 'none';\n",
              "\n",
              "        async function convertToInteractive(key) {\n",
              "          const element = document.querySelector('#df-e44b2084-7f8b-444e-8300-18ce09a6a33c');\n",
              "          const dataTable =\n",
              "            await google.colab.kernel.invokeFunction('convertToInteractive',\n",
              "                                                     [key], {});\n",
              "          if (!dataTable) return;\n",
              "\n",
              "          const docLinkHtml = 'Like what you see? Visit the ' +\n",
              "            '<a target=\"_blank\" href=https://colab.research.google.com/notebooks/data_table.ipynb>data table notebook</a>'\n",
              "            + ' to learn more about interactive tables.';\n",
              "          element.innerHTML = '';\n",
              "          dataTable['output_type'] = 'display_data';\n",
              "          await google.colab.output.renderOutput(dataTable, element);\n",
              "          const docLink = document.createElement('div');\n",
              "          docLink.innerHTML = docLinkHtml;\n",
              "          element.appendChild(docLink);\n",
              "        }\n",
              "      </script>\n",
              "    </div>\n",
              "  </div>\n",
              "  "
            ]
          },
          "metadata": {},
          "execution_count": 46
        }
      ]
    },
    {
      "cell_type": "code",
      "source": [
        "sneakers_df['피드수'] = sneakers_df['피드수'].astype('int')\n",
        "sneakers_df.dtypes"
      ],
      "metadata": {
        "colab": {
          "base_uri": "https://localhost:8080/"
        },
        "id": "YlAghwRJM6_5",
        "outputId": "883dbb15-9ccb-42be-d738-7d8cebea2e03"
      },
      "execution_count": 28,
      "outputs": [
        {
          "output_type": "execute_result",
          "data": {
            "text/plain": [
              "카테고리      object\n",
              "세부카테고리    object\n",
              "브랜드       object\n",
              "상품명       object\n",
              "구매가        int64\n",
              "거래량        int64\n",
              "저장수        int64\n",
              "피드수        int64\n",
              "dtype: object"
            ]
          },
          "metadata": {},
          "execution_count": 28
        }
      ]
    },
    {
      "cell_type": "code",
      "source": [
        "main_brand = pd.Series(sneakers_df['브랜드'].value_counts()[:4])\n",
        "main_brand"
      ],
      "metadata": {
        "colab": {
          "base_uri": "https://localhost:8080/"
        },
        "id": "C8ykavvwEXF4",
        "outputId": "2306bcd7-3ad3-4da3-f9a4-efd70312e3f8"
      },
      "execution_count": 29,
      "outputs": [
        {
          "output_type": "execute_result",
          "data": {
            "text/plain": [
              "Nike           156\n",
              "Jordan         114\n",
              "New Balance     42\n",
              "Adidas          40\n",
              "Name: 브랜드, dtype: int64"
            ]
          },
          "metadata": {},
          "execution_count": 29
        }
      ]
    },
    {
      "cell_type": "code",
      "source": [
        "brand_ls = main_brand.index.tolist()\n",
        "\n",
        "test1 = sneakers_df.loc[sneakers_df['브랜드']=='Nike']\n",
        "test2 = sneakers_df.loc[sneakers_df['브랜드']=='Jordan']\n",
        "test3 = sneakers_df.loc[sneakers_df['브랜드']=='New Balance']\n",
        "test4 = sneakers_df.loc[sneakers_df['브랜드']=='Adidas']\n",
        "main_brand_df = pd.concat([test1,test2,test3,test4])"
      ],
      "metadata": {
        "id": "qBOehBMEL4H9"
      },
      "execution_count": 30,
      "outputs": []
    },
    {
      "cell_type": "code",
      "source": [
        "avgs_price = []\n",
        "avgs_trade = []\n",
        "avgs_save = []\n",
        "avgs_feed = []\n",
        "for brand in brand_ls:\n",
        "  row = sneakers_df.loc[sneakers_df['브랜드']==brand]\n",
        "  avgs_price.append(row.mean()[0])\n",
        "  avgs_trade.append(row.mean()[1])\n",
        "  avgs_save.append(row.mean()[2])\n",
        "  avgs_feed.append(row.mean()[3])\n",
        "\n",
        "Average_df = pd.DataFrame(columns=['브랜드','평균구매가','평균거래량','평균저장수','평균피드수'])\n",
        "Average_df['브랜드'] = pd.Series(brand_ls)\n",
        "Average_df['평균구매가'] = pd.Series(avgs_price)\n",
        "Average_df['평균거래량'] = pd.Series(avgs_trade)\n",
        "Average_df['평균저장수'] = pd.Series(avgs_save)\n",
        "Average_df['평균피드수'] = pd.Series(avgs_feed)\n",
        "\n",
        "Average_df"
      ],
      "metadata": {
        "colab": {
          "base_uri": "https://localhost:8080/",
          "height": 175
        },
        "id": "iHXEuOV1GYFf",
        "outputId": "f76df842-80b7-459c-ca07-df49c6c5a15d"
      },
      "execution_count": 31,
      "outputs": [
        {
          "output_type": "execute_result",
          "data": {
            "text/plain": [
              "           브랜드          평균구매가        평균거래량         평균저장수         평균피드수\n",
              "0         Nike  251801.282051  8527.108974  11373.153846  11373.153846\n",
              "1       Jordan  352070.175439  6921.929825  11668.412281  11668.412281\n",
              "2  New Balance  220500.000000  8890.000000   7021.880952   7021.880952\n",
              "3       Adidas  253900.000000  2853.025000   4339.425000   4339.425000"
            ],
            "text/html": [
              "\n",
              "  <div id=\"df-e33cd53b-e2ee-4db8-8f6e-626baa68d7b9\">\n",
              "    <div class=\"colab-df-container\">\n",
              "      <div>\n",
              "<style scoped>\n",
              "    .dataframe tbody tr th:only-of-type {\n",
              "        vertical-align: middle;\n",
              "    }\n",
              "\n",
              "    .dataframe tbody tr th {\n",
              "        vertical-align: top;\n",
              "    }\n",
              "\n",
              "    .dataframe thead th {\n",
              "        text-align: right;\n",
              "    }\n",
              "</style>\n",
              "<table border=\"1\" class=\"dataframe\">\n",
              "  <thead>\n",
              "    <tr style=\"text-align: right;\">\n",
              "      <th></th>\n",
              "      <th>브랜드</th>\n",
              "      <th>평균구매가</th>\n",
              "      <th>평균거래량</th>\n",
              "      <th>평균저장수</th>\n",
              "      <th>평균피드수</th>\n",
              "    </tr>\n",
              "  </thead>\n",
              "  <tbody>\n",
              "    <tr>\n",
              "      <th>0</th>\n",
              "      <td>Nike</td>\n",
              "      <td>251801.282051</td>\n",
              "      <td>8527.108974</td>\n",
              "      <td>11373.153846</td>\n",
              "      <td>11373.153846</td>\n",
              "    </tr>\n",
              "    <tr>\n",
              "      <th>1</th>\n",
              "      <td>Jordan</td>\n",
              "      <td>352070.175439</td>\n",
              "      <td>6921.929825</td>\n",
              "      <td>11668.412281</td>\n",
              "      <td>11668.412281</td>\n",
              "    </tr>\n",
              "    <tr>\n",
              "      <th>2</th>\n",
              "      <td>New Balance</td>\n",
              "      <td>220500.000000</td>\n",
              "      <td>8890.000000</td>\n",
              "      <td>7021.880952</td>\n",
              "      <td>7021.880952</td>\n",
              "    </tr>\n",
              "    <tr>\n",
              "      <th>3</th>\n",
              "      <td>Adidas</td>\n",
              "      <td>253900.000000</td>\n",
              "      <td>2853.025000</td>\n",
              "      <td>4339.425000</td>\n",
              "      <td>4339.425000</td>\n",
              "    </tr>\n",
              "  </tbody>\n",
              "</table>\n",
              "</div>\n",
              "      <button class=\"colab-df-convert\" onclick=\"convertToInteractive('df-e33cd53b-e2ee-4db8-8f6e-626baa68d7b9')\"\n",
              "              title=\"Convert this dataframe to an interactive table.\"\n",
              "              style=\"display:none;\">\n",
              "        \n",
              "  <svg xmlns=\"http://www.w3.org/2000/svg\" height=\"24px\"viewBox=\"0 0 24 24\"\n",
              "       width=\"24px\">\n",
              "    <path d=\"M0 0h24v24H0V0z\" fill=\"none\"/>\n",
              "    <path d=\"M18.56 5.44l.94 2.06.94-2.06 2.06-.94-2.06-.94-.94-2.06-.94 2.06-2.06.94zm-11 1L8.5 8.5l.94-2.06 2.06-.94-2.06-.94L8.5 2.5l-.94 2.06-2.06.94zm10 10l.94 2.06.94-2.06 2.06-.94-2.06-.94-.94-2.06-.94 2.06-2.06.94z\"/><path d=\"M17.41 7.96l-1.37-1.37c-.4-.4-.92-.59-1.43-.59-.52 0-1.04.2-1.43.59L10.3 9.45l-7.72 7.72c-.78.78-.78 2.05 0 2.83L4 21.41c.39.39.9.59 1.41.59.51 0 1.02-.2 1.41-.59l7.78-7.78 2.81-2.81c.8-.78.8-2.07 0-2.86zM5.41 20L4 18.59l7.72-7.72 1.47 1.35L5.41 20z\"/>\n",
              "  </svg>\n",
              "      </button>\n",
              "      \n",
              "  <style>\n",
              "    .colab-df-container {\n",
              "      display:flex;\n",
              "      flex-wrap:wrap;\n",
              "      gap: 12px;\n",
              "    }\n",
              "\n",
              "    .colab-df-convert {\n",
              "      background-color: #E8F0FE;\n",
              "      border: none;\n",
              "      border-radius: 50%;\n",
              "      cursor: pointer;\n",
              "      display: none;\n",
              "      fill: #1967D2;\n",
              "      height: 32px;\n",
              "      padding: 0 0 0 0;\n",
              "      width: 32px;\n",
              "    }\n",
              "\n",
              "    .colab-df-convert:hover {\n",
              "      background-color: #E2EBFA;\n",
              "      box-shadow: 0px 1px 2px rgba(60, 64, 67, 0.3), 0px 1px 3px 1px rgba(60, 64, 67, 0.15);\n",
              "      fill: #174EA6;\n",
              "    }\n",
              "\n",
              "    [theme=dark] .colab-df-convert {\n",
              "      background-color: #3B4455;\n",
              "      fill: #D2E3FC;\n",
              "    }\n",
              "\n",
              "    [theme=dark] .colab-df-convert:hover {\n",
              "      background-color: #434B5C;\n",
              "      box-shadow: 0px 1px 3px 1px rgba(0, 0, 0, 0.15);\n",
              "      filter: drop-shadow(0px 1px 2px rgba(0, 0, 0, 0.3));\n",
              "      fill: #FFFFFF;\n",
              "    }\n",
              "  </style>\n",
              "\n",
              "      <script>\n",
              "        const buttonEl =\n",
              "          document.querySelector('#df-e33cd53b-e2ee-4db8-8f6e-626baa68d7b9 button.colab-df-convert');\n",
              "        buttonEl.style.display =\n",
              "          google.colab.kernel.accessAllowed ? 'block' : 'none';\n",
              "\n",
              "        async function convertToInteractive(key) {\n",
              "          const element = document.querySelector('#df-e33cd53b-e2ee-4db8-8f6e-626baa68d7b9');\n",
              "          const dataTable =\n",
              "            await google.colab.kernel.invokeFunction('convertToInteractive',\n",
              "                                                     [key], {});\n",
              "          if (!dataTable) return;\n",
              "\n",
              "          const docLinkHtml = 'Like what you see? Visit the ' +\n",
              "            '<a target=\"_blank\" href=https://colab.research.google.com/notebooks/data_table.ipynb>data table notebook</a>'\n",
              "            + ' to learn more about interactive tables.';\n",
              "          element.innerHTML = '';\n",
              "          dataTable['output_type'] = 'display_data';\n",
              "          await google.colab.output.renderOutput(dataTable, element);\n",
              "          const docLink = document.createElement('div');\n",
              "          docLink.innerHTML = docLinkHtml;\n",
              "          element.appendChild(docLink);\n",
              "        }\n",
              "      </script>\n",
              "    </div>\n",
              "  </div>\n",
              "  "
            ]
          },
          "metadata": {},
          "execution_count": 31
        }
      ]
    },
    {
      "cell_type": "markdown",
      "source": [
        "# EDA"
      ],
      "metadata": {
        "id": "B52UAwCRVSE2"
      }
    },
    {
      "cell_type": "markdown",
      "source": [
        "## 브랜드별 평균가격"
      ],
      "metadata": {
        "id": "bUoPmfNGVTSi"
      }
    },
    {
      "cell_type": "code",
      "source": [
        "# 가장 마지막 막대가 눈금이 표시되지 않는 에러로 반복문 사용 X\n",
        "\n",
        "target = ['평균구매가','평균거래량','평균저장수','평균피드수']\n",
        "for col in target:\n",
        "  plt.figure(figsize=(15,3))\n",
        "  chart = sns.barplot(data=Average_df,x=Average_df['브랜드'],y='평균구매가')\n",
        "  # chart.set_xticklabels(chart.get_xticklabels())\n",
        "  chart.set_title(f'{col} 비교')\n",
        "  plt.gca().xaxis.set_major_locator(plt.MultipleLocator(1))\n",
        "  plt.show(15)"
      ],
      "metadata": {
        "id": "SVbB_z0XOIlm"
      },
      "execution_count": null,
      "outputs": []
    },
    {
      "cell_type": "code",
      "source": [
        "plt.figure(figsize=(15,4))\n",
        "chart = sns.barplot(data=Average_df,x=Average_df['브랜드'],y='평균구매가')\n",
        "chart.set_title('평균구매가')"
      ],
      "metadata": {
        "colab": {
          "base_uri": "https://localhost:8080/",
          "height": 314
        },
        "id": "aXRL6RpZ7f9B",
        "outputId": "374b49ff-0162-4a72-86fc-749d33f080ea"
      },
      "execution_count": 42,
      "outputs": [
        {
          "output_type": "execute_result",
          "data": {
            "text/plain": [
              "Text(0.5, 1.0, '평균구매가')"
            ]
          },
          "metadata": {},
          "execution_count": 42
        },
        {
          "output_type": "display_data",
          "data": {
            "text/plain": [
              "<Figure size 1080x288 with 1 Axes>"
            ],
            "image/png": "[encoded data removed]"
          },
          "metadata": {
            "image/png": {
              "width": 908,
              "height": 280
            },
            "needs_background": "light"
          }
        }
      ]
    },
    {
      "cell_type": "code",
      "source": [
        "plt.figure(figsize=(15,4))\n",
        "chart = sns.barplot(data=Average_df,x=Average_df['브랜드'],y='평균거래량')\n",
        "chart.set_title('평균거래량')"
      ],
      "metadata": {
        "colab": {
          "base_uri": "https://localhost:8080/",
          "height": 314
        },
        "id": "cvnMR_Bs7xlY",
        "outputId": "d4cb4771-2b74-492e-a3ab-5142c05792c1"
      },
      "execution_count": 43,
      "outputs": [
        {
          "output_type": "execute_result",
          "data": {
            "text/plain": [
              "Text(0.5, 1.0, '평균거래량')"
            ]
          },
          "metadata": {},
          "execution_count": 43
        },
        {
          "output_type": "display_data",
          "data": {
            "text/plain": [
              "<Figure size 1080x288 with 1 Axes>"
            ],
            "image/png": "[encoded data removed]"
          },
          "metadata": {
            "image/png": {
              "width": 896,
              "height": 280
            },
            "needs_background": "light"
          }
        }
      ]
    },
    {
      "cell_type": "code",
      "source": [
        "plt.figure(figsize=(15,4))\n",
        "chart = sns.barplot(data=Average_df,x=Average_df['브랜드'],y='평균저장수')\n",
        "chart.set_title('평균저장수')"
      ],
      "metadata": {
        "colab": {
          "base_uri": "https://localhost:8080/",
          "height": 314
        },
        "id": "sz-xeEzq7yWo",
        "outputId": "6a325bee-8b9b-407a-fb64-84c523bc2cb2"
      },
      "execution_count": 44,
      "outputs": [
        {
          "output_type": "execute_result",
          "data": {
            "text/plain": [
              "Text(0.5, 1.0, '평균저장수')"
            ]
          },
          "metadata": {},
          "execution_count": 44
        },
        {
          "output_type": "display_data",
          "data": {
            "text/plain": [
              "<Figure size 1080x288 with 1 Axes>"
            ],
            "image/png": "[encoded data removed]"
          },
          "metadata": {
            "image/png": {
              "width": 902,
              "height": 280
            },
            "needs_background": "light"
          }
        }
      ]
    },
    {
      "cell_type": "code",
      "source": [
        "plt.figure(figsize=(15,4))\n",
        "chart = sns.barplot(data=Average_df,x=Average_df['브랜드'],y='평균피드수')\n",
        "chart.set_title('평균피드수'),"
      ],
      "metadata": {
        "colab": {
          "base_uri": "https://localhost:8080/",
          "height": 314
        },
        "id": "KIxlJdFv7yyt",
        "outputId": "3cfb955f-9719-4b76-8c56-f70ff6a14eaa"
      },
      "execution_count": 45,
      "outputs": [
        {
          "output_type": "execute_result",
          "data": {
            "text/plain": [
              "Text(0.5, 1.0, '평균피드수')"
            ]
          },
          "metadata": {},
          "execution_count": 45
        },
        {
          "output_type": "display_data",
          "data": {
            "text/plain": [
              "<Figure size 1080x288 with 1 Axes>"
            ],
            "image/png": "[encoded data removed]"
          },
          "metadata": {
            "image/png": {
              "width": 902,
              "height": 280
            },
            "needs_background": "light"
          }
        }
      ]
    },
    {
      "cell_type": "markdown",
      "source": [
        "## 사이즈별 평균가격"
      ],
      "metadata": {
        "id": "JYjwK08RVhzP"
      }
    },
    {
      "cell_type": "markdown",
      "source": [
        "## 출시일 -> 판매일 gap 에 따른 가격"
      ],
      "metadata": {
        "id": "oJo6mCQVVtMQ"
      }
    },
    {
      "cell_type": "code",
      "source": [
        "# 상품별이 아닌 브랜드별로 time gap에 따라 평균 가격이 어떻게 형성되는지도 알아보기"
      ],
      "metadata": {
        "id": "solFer8gWJ2Q"
      },
      "execution_count": null,
      "outputs": []
    }
  ]
}